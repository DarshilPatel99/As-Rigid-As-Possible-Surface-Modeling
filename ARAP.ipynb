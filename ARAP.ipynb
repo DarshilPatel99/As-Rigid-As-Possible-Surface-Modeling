{
 "cells": [
  {
   "cell_type": "markdown",
   "id": "c2e8c140",
   "metadata": {},
   "source": [
    "# As Rigid As Possible"
   ]
  },
  {
   "cell_type": "markdown",
   "id": "a111a111",
   "metadata": {},
   "source": [
    "@uthor: Darshil Patel"
   ]
  },
  {
   "cell_type": "code",
   "execution_count": 1,
   "id": "a140b837",
   "metadata": {},
   "outputs": [],
   "source": [
    "import igl\n",
    "from meshplot import plot\n",
    "import numpy as np\n",
    "import os\n",
    "import spharapy.trimesh as trimesh\n",
    "import matplotlib.pyplot as plt\n",
    "from collections import defaultdict\n",
    "\n",
    "%matplotlib inline\n",
    "# root_folder = os.getcwd()"
   ]
  },
  {
   "cell_type": "code",
   "execution_count": 2,
   "id": "68a5020d",
   "metadata": {},
   "outputs": [],
   "source": [
    "def get_1_ring_neighbour(F):\n",
    "#     input:\n",
    "#         F : faces\n",
    "#     output:\n",
    "#         neighbours : neighbours of each vertex dict{key : vertex =>  value : sorted list of neighbours}\n",
    "    \n",
    "    neighbours = defaultdict(set)\n",
    "    for i in F:\n",
    "        a,b,c = i[0],i[1],i[2]\n",
    "        neighbours[a].add(b)\n",
    "        neighbours[a].add(c)\n",
    "        neighbours[b].add(a)\n",
    "        neighbours[b].add(c)\n",
    "        neighbours[c].add(a)\n",
    "        neighbours[c].add(b)\n",
    "    \n",
    "    for vertex in neighbours:\n",
    "        neighbours[vertex] = np.array(sorted(list(neighbours[vertex])))\n",
    "    return neighbours"
   ]
  },
  {
   "cell_type": "code",
   "execution_count": 3,
   "id": "91ea9420",
   "metadata": {},
   "outputs": [],
   "source": [
    "def get_1_ring_edges(V, neighbours):\n",
    "#     input:\n",
    "#         V : Vertices\n",
    "#         neighbours : neighbours of each vertex dict{key : vertex =>  value : sorted list of neighbours}\n",
    "#     output:\n",
    "#         edges : edges of each vertex dict{key : vertex =>  value : 3 X neighbour[vertex] matrix}\n",
    "\n",
    "    edges = dict()\n",
    "    for vertex in neighbours:\n",
    "        edges[vertex] = (V[vertex] - V[neighbours[vertex]]).T\n",
    "    return edges"
   ]
  },
  {
   "cell_type": "code",
   "execution_count": 4,
   "id": "5fc72ab8",
   "metadata": {},
   "outputs": [],
   "source": [
    "def get_weights(V, F, neighbours, form = 'cotant'):\n",
    "#     input:\n",
    "#         V : Vertices\n",
    "#         F : Faces\n",
    "#         neighbours : neighbours of each vertex dict{key : vertex =>  value : sorted list of neighbours}\n",
    "#         form : type of weight (one or cotant)\n",
    "#     output:\n",
    "#         D : weight of each edge dict{key : vertex =>  value : list of weights }\n",
    "\n",
    "    D = dict()\n",
    "    if form == 'cotant':\n",
    "        l = igl.cotmatrix(V, F)\n",
    "        l = l.todense()\n",
    "        for vertex in neighbours:\n",
    "            D[vertex] = np.array([l[vertex,nb] for nb in neighbours[vertex]])\n",
    "    else:\n",
    "        for vertex in neighbours:\n",
    "            D[vertex] = np.ones(neighbours[vertex].size)\n",
    "        \n",
    "    return D"
   ]
  },
  {
   "cell_type": "code",
   "execution_count": 5,
   "id": "a95baeea",
   "metadata": {},
   "outputs": [],
   "source": [
    "def get_transformation(P,D,P_):\n",
    "#     input:\n",
    "#         P : edges of given mesh dict{key : vertex =>  value : 3 X neighbour[vertex] matrix }\n",
    "#         D : weight of each edge dict{key : vertex =>  value : list of weights }\n",
    "#         P_ : edges of deformed mesh dict{key : vertex =>  value : 3 X neighbour[vertex] matrix }\n",
    "#     output:\n",
    "#         R : rotation matrix for each vertex dict{key : vertex =>  value : 3 X 3 matrix }\n",
    "\n",
    "    R = dict()\n",
    "    for vertex in P:\n",
    "        S = P[vertex] @ np.diag(D[vertex]) @ (P_[vertex].T)\n",
    "        U, Sigma, Vh = np.linalg.svd(S)\n",
    "        R[vertex] = (Vh.T) @ (U.T)\n",
    "    return R"
   ]
  },
  {
   "cell_type": "code",
   "execution_count": 6,
   "id": "3dc1477c",
   "metadata": {},
   "outputs": [],
   "source": [
    "def get_new_vertices(R, neighbours, given_edgs, weights, L, fix_V, fix_V_indices, var_V_indices):\n",
    "#     input:\n",
    "#         R : rotation matrix for each vertex dict{key : vertex =>  value : 3 X 3 matrix }\n",
    "#         neighbours : neighbours of each vertex dict{key : vertex =>  value : sorted list of neighbours}\n",
    "#         given_edgs : edges of given mesh dict{key : vertex =>  value : 3 X neighbour[vertex] matrix }\n",
    "#         weights : weight of each edge dict{key : vertex =>  value : list of weights }\n",
    "#         L : Laplace beltrami operator\n",
    "#         fix_V : position of fix vertices\n",
    "#         fix_V_indices : indices of fix vertices\n",
    "#         var_V_indices : indices of variable vertices\n",
    "#     output:\n",
    "#         V_ : new vertices\n",
    "    \n",
    "    b = np.zeros((L.shape[0], 3))\n",
    "    for vertex in neighbours:\n",
    "        for i in range(neighbours[vertex].size):\n",
    "            b[vertex] += (0.5)*weights[vertex][i]*((R[vertex]+R[neighbours[vertex][i]])@given_edgs[vertex][:,i])\n",
    "    \n",
    "    temp = L[:,fix_V_indices] @ fix_V\n",
    "    temp_L = np.delete(L,fix_V_indices,1)\n",
    "    \n",
    "    V_ = np.zeros_like(b)\n",
    "    V_[fix_V_indices] = fix_V\n",
    "    V_[var_V_indices] = np.linalg.lstsq(temp_L,b-temp,rcond = None)[0]\n",
    "    \n",
    "    return V_"
   ]
  },
  {
   "cell_type": "code",
   "execution_count": 7,
   "id": "1fdccfca",
   "metadata": {},
   "outputs": [],
   "source": [
    "def LBO(V,F):\n",
    "#     input:\n",
    "#         V : vertices\n",
    "#         F : Faces\n",
    "#     output:\n",
    "#         L : Laplace beltrami operator\n",
    "    tm = trimesh.TriMesh(F, V)\n",
    "    L = tm.laplacianmatrix(mode='half_cotangent')\n",
    "    return L"
   ]
  },
  {
   "cell_type": "code",
   "execution_count": 8,
   "id": "9355deca",
   "metadata": {},
   "outputs": [],
   "source": [
    "def Laplacian_editing(V, F, L, fix_V, fix_V_indices, var_V_indices):\n",
    "#     input:\n",
    "#         V : vertices\n",
    "#         F : Faces\n",
    "#         L : Laplace beltrami operator\n",
    "#         fix_V : position of fix vertices\n",
    "#         fix_V_indices : indices of fix vertices\n",
    "#         var_V_indices : indices of variable vertices\n",
    "#     output:\n",
    "#         V_ : new vertices\n",
    "    delta = L@V\n",
    "    V_ = np.zeros_like(V)\n",
    "    V_[fix_V_indices] = fix_V\n",
    "    delta = delta - L[:,fix_V_indices] @ V_[fix_V_indices]\n",
    "    \n",
    "    temp_L = np.delete(L,fix_V_indices,1)\n",
    "    \n",
    "    V_[var_V_indices] = np.linalg.lstsq(temp_L,delta,rcond = None)[0]\n",
    "    return V_"
   ]
  },
  {
   "cell_type": "code",
   "execution_count": 9,
   "id": "24ec1b35",
   "metadata": {},
   "outputs": [],
   "source": [
    "def Rotation(theta,n):\n",
    "    # Given the angle of rotation and axis of rotation define a rotation matrix\n",
    "    # Input: \n",
    "    #     theta: Angle o rotation\n",
    "    #     n    : Axis of rotation\n",
    "    # Output: \n",
    "    #     R    : Rotation matrix\n",
    "    \n",
    "    # Define skew-symmetric matrix\n",
    "    Nx = np.zeros([3,3])\n",
    "    Nx[0,1],Nx[0,2],Nx[1,2]= -n[2],n[1],-n[0]\n",
    "    Nx[1,0],Nx[2,0],Nx[2,1]=  n[2],-n[1],n[0]\n",
    "    \n",
    "    # Rodrigues' rotation formula\n",
    "    R = np.eye(3) + np.sin(theta)*Nx+ (1-np.cos(theta))*(Nx@Nx)\n",
    "    \n",
    "    return R"
   ]
  },
  {
   "cell_type": "code",
   "execution_count": 10,
   "id": "043f7ca2",
   "metadata": {},
   "outputs": [],
   "source": [
    "# you can change this function based on mashes\n",
    "\n",
    "def get_fix_vertices(V):\n",
    "#     input:\n",
    "#         V : vertices\n",
    "#     output:\n",
    "#         fix_V : position of fix vertices\n",
    "#         fix_V_indices : indices of fix vertices\n",
    "#         var_V_indices : indices of variable vertices\n",
    "    fix_V_indices = np.arange(98)\n",
    "    var_V_indices = np.arange(98,V.shape[0])\n",
    "    Transformation = Rotation(np.pi/2,np.array([0,1,0]))\n",
    "    fix_V = np.zeros((fix_V_indices.size,3))\n",
    "    fix_V[fix_V_indices[:49]] = V[fix_V_indices[:49]] @ Transformation\n",
    "    fix_V[fix_V_indices[49:]] = V[fix_V_indices[49:]]\n",
    "    return fix_V, fix_V_indices, var_V_indices"
   ]
  },
  {
   "cell_type": "code",
   "execution_count": 11,
   "id": "7ae80bb7",
   "metadata": {},
   "outputs": [
    {
     "data": {
      "application/vnd.jupyter.widget-view+json": {
       "model_id": "63cbde61e8d34a0f89224e5127ef8254",
       "version_major": 2,
       "version_minor": 0
      },
      "text/plain": [
       "Renderer(camera=PerspectiveCamera(children=(DirectionalLight(color='white', intensity=0.6, position=(-4.768371…"
      ]
     },
     "metadata": {},
     "output_type": "display_data"
    },
    {
     "data": {
      "text/plain": [
       "<meshplot.Viewer.Viewer at 0x7f0af905db50>"
      ]
     },
     "execution_count": 11,
     "metadata": {},
     "output_type": "execute_result"
    }
   ],
   "source": [
    "# import mesh and visualization\n",
    "V, F = igl.read_triangle_mesh(\"bar.obj\")\n",
    "s = np.zeros(V.shape[0])\n",
    "s[0:98] = 1\n",
    "plot(V, F, s, shading={\"wireframe\": True}, return_plot=True)"
   ]
  },
  {
   "cell_type": "code",
   "execution_count": 12,
   "id": "613c3d28",
   "metadata": {},
   "outputs": [],
   "source": [
    "# Laplace beltrami operator\n",
    "L = LBO(V, F)"
   ]
  },
  {
   "cell_type": "code",
   "execution_count": 13,
   "id": "f2d7f96a",
   "metadata": {},
   "outputs": [],
   "source": [
    "# 1 ring neighbours of all vertices\n",
    "neighbours = get_1_ring_neighbour(F)"
   ]
  },
  {
   "cell_type": "code",
   "execution_count": 14,
   "id": "ba039abc",
   "metadata": {},
   "outputs": [],
   "source": [
    "# edges between all neighbours\n",
    "given_edgs = get_1_ring_edges(V, neighbours)  # P"
   ]
  },
  {
   "cell_type": "code",
   "execution_count": 15,
   "id": "bf06e581",
   "metadata": {},
   "outputs": [],
   "source": [
    "# cotant or unit weights\n",
    "weights = get_weights(V, F, neighbours) # D"
   ]
  },
  {
   "cell_type": "code",
   "execution_count": 16,
   "id": "dd8608e4",
   "metadata": {},
   "outputs": [],
   "source": [
    "# fix vertices and their position\n",
    "fix_V, fix_V_indices, var_V_indices = get_fix_vertices(V)"
   ]
  },
  {
   "cell_type": "code",
   "execution_count": 17,
   "id": "83b80667",
   "metadata": {},
   "outputs": [
    {
     "data": {
      "application/vnd.jupyter.widget-view+json": {
       "model_id": "0d4bdece2d1b4f709fa49761b6789aa7",
       "version_major": 2,
       "version_minor": 0
      },
      "text/plain": [
       "Renderer(camera=PerspectiveCamera(children=(DirectionalLight(color='white', intensity=0.6, position=(0.0, 9.15…"
      ]
     },
     "metadata": {},
     "output_type": "display_data"
    },
    {
     "data": {
      "text/plain": [
       "<meshplot.Viewer.Viewer at 0x7f0af90529d0>"
      ]
     },
     "execution_count": 17,
     "metadata": {},
     "output_type": "execute_result"
    }
   ],
   "source": [
    "# output using laplace mesh edition and the 1st estimation of deformed mesh\n",
    "V_ = Laplacian_editing(V, F, L, fix_V, fix_V_indices, var_V_indices)\n",
    "plot(V_, F, s, shading={\"wireframe\": True}, return_plot=True)"
   ]
  },
  {
   "cell_type": "code",
   "execution_count": 18,
   "id": "8d427710",
   "metadata": {},
   "outputs": [
    {
     "data": {
      "application/vnd.jupyter.widget-view+json": {
       "model_id": "281035b0ac7446eb8d9b8f73b68c887b",
       "version_major": 2,
       "version_minor": 0
      },
      "text/plain": [
       "Renderer(camera=PerspectiveCamera(children=(DirectionalLight(color='white', intensity=0.6, position=(-9.536743…"
      ]
     },
     "metadata": {},
     "output_type": "display_data"
    },
    {
     "data": {
      "text/plain": [
       "<meshplot.Viewer.Viewer at 0x7f0af90060a0>"
      ]
     },
     "execution_count": 18,
     "metadata": {},
     "output_type": "execute_result"
    }
   ],
   "source": [
    "#iterative method to find deformed mesh\n",
    "for _ in range(50):\n",
    "    new_edgs = get_1_ring_edges(V_, neighbours) # P_\n",
    "    R = get_transformation(given_edgs,weights,new_edgs)\n",
    "    V_ = get_new_vertices(R, neighbours,given_edgs, weights, L, fix_V, fix_V_indices, var_V_indices)\n",
    "plot(V_, F, s, shading={\"wireframe\": True}, return_plot=True)"
   ]
  }
 ],
 "metadata": {
  "kernelspec": {
   "display_name": "Python 3",
   "language": "python",
   "name": "python3"
  },
  "language_info": {
   "codemirror_mode": {
    "name": "ipython",
    "version": 3
   },
   "file_extension": ".py",
   "mimetype": "text/x-python",
   "name": "python",
   "nbconvert_exporter": "python",
   "pygments_lexer": "ipython3",
   "version": "3.9.1"
  }
 },
 "nbformat": 4,
 "nbformat_minor": 5
}
